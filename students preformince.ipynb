{
  "metadata": {
    "kernelspec": {
      "name": "python",
      "display_name": "Python (Pyodide)",
      "language": "python"
    },
    "language_info": {
      "name": "python"
    },
    "colab": {
      "name": "Final_Exam_Rashad.ipynb",
      "provenance": [],
      "collapsed_sections": []
    }
  },
  "nbformat_minor": 4,
  "nbformat": 4,
  "cells": [
    {
      "cell_type": "code",
      "source": "import pandas as pd\n",
      "metadata": {
        "id": "ummh5jhtrzas",
        "trusted": true
      },
      "outputs": [],
      "execution_count": null
    },
    {
      "cell_type": "code",
      "source": "student=pd.read_csv(\"student.csv\")",
      "metadata": {
        "id": "TioPMyKfsqIw",
        "trusted": true
      },
      "outputs": [],
      "execution_count": null
    },
    {
      "cell_type": "code",
      "source": "student",
      "metadata": {
        "colab": {
          "base_uri": "https://localhost:8080/",
          "height": 419
        },
        "id": "CZjtry6QswBU",
        "outputId": "7d6b23d0-bb13-416f-fca9-79a65961958b",
        "trusted": true
      },
      "outputs": [],
      "execution_count": null
    },
    {
      "cell_type": "markdown",
      "source": "# Q1",
      "metadata": {
        "id": "47jVoQGpyYq5"
      }
    },
    {
      "cell_type": "code",
      "source": "#there are 200 record in each column \n#so 160 is the missing values; 160 -200 =40 means at least 40 is not missing\nstudent=student.dropna(axis=1, thresh=40)\n",
      "metadata": {
        "id": "3SWATiMAsw7x",
        "trusted": true
      },
      "outputs": [],
      "execution_count": null
    },
    {
      "cell_type": "markdown",
      "source": "# Q2",
      "metadata": {
        "id": "NTvAi5MwvOdS"
      }
    },
    {
      "cell_type": "code",
      "source": "student.isnull().sum()",
      "metadata": {
        "colab": {
          "base_uri": "https://localhost:8080/"
        },
        "id": "_T3IAdLTvhYr",
        "outputId": "e0405afc-e032-468c-d616-e4ddd4771cc2",
        "trusted": true
      },
      "outputs": [],
      "execution_count": null
    },
    {
      "cell_type": "code",
      "source": "\nstudent['internet'].value_counts()\n#there are only 5 missing values and the most repeated value is yes so i fill the missing values with it",
      "metadata": {
        "colab": {
          "base_uri": "https://localhost:8080/"
        },
        "id": "fudkGn0ztQNA",
        "outputId": "29fa792a-a886-4907-c936-0112d384cd11",
        "trusted": true
      },
      "outputs": [],
      "execution_count": null
    },
    {
      "cell_type": "code",
      "source": "student['internet']=student['internet'].fillna(\"yes\")",
      "metadata": {
        "colab": {
          "base_uri": "https://localhost:8080/"
        },
        "id": "NKnXI-Qxu0iI",
        "outputId": "b7e0815e-0219-4d52-a553-4f109cb52a86",
        "trusted": true
      },
      "outputs": [],
      "execution_count": null
    },
    {
      "cell_type": "code",
      "source": "student.isnull().sum()",
      "metadata": {
        "colab": {
          "base_uri": "https://localhost:8080/"
        },
        "id": "62-g4o5btZT5",
        "outputId": "bca62c8e-7712-49c6-90c3-5c42e9a73332",
        "trusted": true
      },
      "outputs": [],
      "execution_count": null
    },
    {
      "cell_type": "markdown",
      "source": "# Q3",
      "metadata": {
        "id": "fEG4vWjpvwe-"
      }
    },
    {
      "cell_type": "code",
      "source": "#target column is score\n#the missing values are only 2 so i will replace the missing values with the mean of the column\nstudent['score']=student['score'].fillna(student['score'].mean())\n",
      "metadata": {
        "colab": {
          "base_uri": "https://localhost:8080/"
        },
        "id": "9lnRWOqBvBNe",
        "outputId": "a09da538-0b0f-4943-ccd3-7191d3910d9f",
        "trusted": true
      },
      "outputs": [],
      "execution_count": null
    },
    {
      "cell_type": "code",
      "source": "student.isnull().sum()\n#the missing values are filled successfully",
      "metadata": {
        "colab": {
          "base_uri": "https://localhost:8080/"
        },
        "id": "t8u8UpzWxYkV",
        "outputId": "846ec7b4-dba2-4939-99db-383babaf1092",
        "trusted": true
      },
      "outputs": [],
      "execution_count": null
    },
    {
      "cell_type": "markdown",
      "source": "# Q4",
      "metadata": {
        "id": "_YsgjW6sxvgh"
      }
    },
    {
      "cell_type": "code",
      "source": "from sklearn import preprocessing",
      "metadata": {
        "id": "XSBw6qEO0-3H",
        "trusted": true
      },
      "outputs": [],
      "execution_count": null
    },
    {
      "cell_type": "code",
      "source": "preprocessing.scale(student[['absences','freetime']])",
      "metadata": {
        "colab": {
          "base_uri": "https://localhost:8080/"
        },
        "id": "xEfpFUWux1kt",
        "outputId": "5cf51802-0d13-426f-df61-c12febbe807d",
        "trusted": true
      },
      "outputs": [],
      "execution_count": null
    },
    {
      "cell_type": "markdown",
      "source": "#Q5",
      "metadata": {
        "id": "Jg32RCsL0cFk"
      }
    },
    {
      "cell_type": "code",
      "source": "#before removing outliers\nstudent[['age']].boxplot()",
      "metadata": {
        "colab": {
          "base_uri": "https://localhost:8080/",
          "height": 282
        },
        "id": "nRaP2q-r0ffa",
        "outputId": "b667c01f-0b30-4d47-961e-788835ae57b8",
        "trusted": true
      },
      "outputs": [],
      "execution_count": null
    },
    {
      "cell_type": "code",
      "source": "dropThese= student[(student['age'] < 15) | (student['age'] > 20)  ].index",
      "metadata": {
        "id": "LyVLPDFf1urS",
        "trusted": true
      },
      "outputs": [],
      "execution_count": null
    },
    {
      "cell_type": "code",
      "source": "student.drop(dropThese,inplace=True)",
      "metadata": {
        "colab": {
          "base_uri": "https://localhost:8080/"
        },
        "id": "jY32E9V_3GD0",
        "outputId": "ea81298a-77f9-4bd9-e4c5-22d4d2957b77",
        "trusted": true
      },
      "outputs": [],
      "execution_count": null
    },
    {
      "cell_type": "code",
      "source": "#after removing outliers\nstudent[['age']].boxplot()",
      "metadata": {
        "colab": {
          "base_uri": "https://localhost:8080/",
          "height": 282
        },
        "id": "6zQqczL22G5m",
        "outputId": "7064f308-ea35-477b-bab2-7f252dcad724",
        "trusted": true
      },
      "outputs": [],
      "execution_count": null
    },
    {
      "cell_type": "markdown",
      "source": "# Q6",
      "metadata": {
        "id": "FP2qo63e3aun"
      }
    },
    {
      "cell_type": "code",
      "source": "import matplotlib.pyplot as plt\n",
      "metadata": {
        "id": "-rC5qIXB3c_K",
        "trusted": true
      },
      "outputs": [],
      "execution_count": null
    },
    {
      "cell_type": "code",
      "source": "plt.hist(student['score'], bins=15)",
      "metadata": {
        "colab": {
          "base_uri": "https://localhost:8080/",
          "height": 384
        },
        "id": "5KWnTEQ_3uKk",
        "outputId": "c104e3d3-d803-4b17-b153-335e9e98dd46",
        "trusted": true
      },
      "outputs": [],
      "execution_count": null
    },
    {
      "cell_type": "code",
      "source": "#the the scores between 7.5 and 12.5 range is the maximum scored",
      "metadata": {
        "id": "-_Bkij2N4WTH",
        "trusted": true
      },
      "outputs": [],
      "execution_count": null
    },
    {
      "cell_type": "markdown",
      "source": "# Q7",
      "metadata": {
        "id": "EESNy9F24nP3"
      }
    },
    {
      "cell_type": "code",
      "source": "X = student.groupby(by=['gender']).mean()\nX.reset_index(inplace=True)\nplt.barh(X['gender'],X['score'])\n#Male students average is higher than females",
      "metadata": {
        "colab": {
          "base_uri": "https://localhost:8080/",
          "height": 282
        },
        "id": "GXRHGWwH7Dwe",
        "outputId": "ec779102-9c83-43b9-91e4-311d576f7df4",
        "trusted": true
      },
      "outputs": [],
      "execution_count": null
    },
    {
      "cell_type": "markdown",
      "source": "# Q8",
      "metadata": {
        "id": "przTedfi71LZ"
      }
    },
    {
      "cell_type": "code",
      "source": "#make the features and target columns\nX=student.iloc[:,:-1]\ny=student.iloc[:,-1]",
      "metadata": {
        "id": "ReIs8-E674GY",
        "trusted": true
      },
      "outputs": [],
      "execution_count": null
    },
    {
      "cell_type": "markdown",
      "source": "# Q9",
      "metadata": {
        "id": "cQpngqz879xj"
      }
    },
    {
      "cell_type": "code",
      "source": "from sklearn import preprocessing\n",
      "metadata": {
        "id": "7tehJ1tO9Li0",
        "trusted": true
      },
      "outputs": [],
      "execution_count": null
    },
    {
      "cell_type": "code",
      "source": "lbl=preprocessing.LabelEncoder()\nX['gender-code']=lbl.fit_transform(X['gender'])",
      "metadata": {
        "id": "jN99GmztwaY0",
        "trusted": true
      },
      "outputs": [],
      "execution_count": null
    },
    {
      "cell_type": "code",
      "source": "X",
      "metadata": {
        "colab": {
          "base_uri": "https://localhost:8080/",
          "height": 419
        },
        "id": "uElp944U88AY",
        "outputId": "79f8ce7d-150a-4062-e939-2bbd1c9f4935",
        "trusted": true
      },
      "outputs": [],
      "execution_count": null
    },
    {
      "cell_type": "markdown",
      "source": "# Q10",
      "metadata": {
        "id": "IIIka5JG9euI"
      }
    },
    {
      "cell_type": "code",
      "source": "X.drop(\"gender\",axis=\"columns\",inplace=True)\nX.drop(\"internet\",axis=\"columns\",inplace=True)",
      "metadata": {
        "id": "KTc3Fb6Y9VwW",
        "trusted": true
      },
      "outputs": [],
      "execution_count": null
    },
    {
      "cell_type": "code",
      "source": "X",
      "metadata": {
        "colab": {
          "base_uri": "https://localhost:8080/",
          "height": 419
        },
        "id": "-6m4n4XN9v5-",
        "outputId": "6db7a5ae-c8d0-4dfc-8d4b-522dd317f1c6",
        "trusted": true
      },
      "outputs": [],
      "execution_count": null
    },
    {
      "cell_type": "markdown",
      "source": "# Q11",
      "metadata": {
        "id": "3T6nVsbN-jiL"
      }
    },
    {
      "cell_type": "code",
      "source": "from sklearn.decomposition import FactorAnalysis\n",
      "metadata": {
        "id": "QGYpYfvu-aHE",
        "trusted": true
      },
      "outputs": [],
      "execution_count": null
    },
    {
      "cell_type": "code",
      "source": "FactorAnalysis(n_components=4).fit_transform(X)\n",
      "metadata": {
        "colab": {
          "base_uri": "https://localhost:8080/"
        },
        "id": "VVWGV7Ii-2p9",
        "outputId": "084da755-965a-4ab6-cec1-9933ced6b0f1",
        "trusted": true
      },
      "outputs": [],
      "execution_count": null
    },
    {
      "cell_type": "markdown",
      "source": "# Q12",
      "metadata": {
        "id": "co9tUomE_SIi"
      }
    },
    {
      "cell_type": "code",
      "source": "from sklearn.model_selection import train_test_split",
      "metadata": {
        "id": "zNABVp3m_Uv_",
        "trusted": true
      },
      "outputs": [],
      "execution_count": null
    },
    {
      "cell_type": "code",
      "source": "X_train, X_test, y_train, y_test= train_test_split(X,y,test_size=0.2,random_state=5)",
      "metadata": {
        "id": "i8clH3bX_hOO",
        "trusted": true
      },
      "outputs": [],
      "execution_count": null
    },
    {
      "cell_type": "markdown",
      "source": "# Q13",
      "metadata": {
        "id": "WJszv-db_0q0"
      }
    },
    {
      "cell_type": "code",
      "source": "from sklearn.linear_model import LinearRegression \n",
      "metadata": {
        "id": "zGM9dyHJ_tLR",
        "trusted": true
      },
      "outputs": [],
      "execution_count": null
    },
    {
      "cell_type": "code",
      "source": "score_model=LinearRegression()\nscore_model.fit(X_train,y_train)",
      "metadata": {
        "colab": {
          "base_uri": "https://localhost:8080/"
        },
        "id": "pzMZCZgh_3O9",
        "outputId": "627ef291-7ae6-402f-fa11-0f9319bf9a45",
        "trusted": true
      },
      "outputs": [],
      "execution_count": null
    },
    {
      "cell_type": "code",
      "source": "y_pred=score_model.predict(X_test)",
      "metadata": {
        "id": "DKdJxnxHAAwu",
        "trusted": true
      },
      "outputs": [],
      "execution_count": null
    },
    {
      "cell_type": "markdown",
      "source": "# Q14",
      "metadata": {
        "id": "pwzBjHpzASYc"
      }
    },
    {
      "cell_type": "code",
      "source": "dict ={\"Actual\":y_test,\"Predicted\":y_pred}",
      "metadata": {
        "id": "mQECWjg_ALeB",
        "trusted": true
      },
      "outputs": [],
      "execution_count": null
    },
    {
      "cell_type": "code",
      "source": "pd.DataFrame(diction)\n",
      "metadata": {
        "colab": {
          "base_uri": "https://localhost:8080/",
          "height": 1000
        },
        "id": "W7a-MQZnAXHO",
        "outputId": "e8cb8381-5e7f-4b6e-8dcf-ae1c74b5101b",
        "trusted": true
      },
      "outputs": [],
      "execution_count": null
    },
    {
      "cell_type": "code",
      "source": "plt.plot(std['score'], color='black')\nplt.plot(ypr, color='g')\nplt.title('actual teat data and th predicted data')\nplt.show()",
      "metadata": {
        "colab": {
          "base_uri": "https://localhost:8080/",
          "height": 282
        },
        "id": "AHHDr11HAhpF",
        "outputId": "0b1c43dd-b1f8-4529-9b70-9a5f6195d32f",
        "trusted": true
      },
      "outputs": [],
      "execution_count": null
    },
    {
      "cell_type": "markdown",
      "source": "# Q15",
      "metadata": {
        "id": "k-Vd35oGA8uX"
      }
    },
    {
      "cell_type": "code",
      "source": "X",
      "metadata": {
        "colab": {
          "base_uri": "https://localhost:8080/",
          "height": 419
        },
        "id": "7pXtyOquBKRQ",
        "outputId": "a8f206c2-3281-4f8f-d6ea-8e66e2f9e116",
        "trusted": true
      },
      "outputs": [],
      "execution_count": null
    },
    {
      "cell_type": "code",
      "source": "score_model.predict([[22,1,2,0,0,0,0]])",
      "metadata": {
        "colab": {
          "base_uri": "https://localhost:8080/"
        },
        "id": "0HB7bk1DA-y3",
        "outputId": "c5467e4a-4c3e-463c-e4a0-fbe09bd1f73d",
        "trusted": true
      },
      "outputs": [],
      "execution_count": null
    },
    {
      "cell_type": "code",
      "source": "",
      "metadata": {
        "id": "0IehAMsIBEtV",
        "trusted": true
      },
      "outputs": [],
      "execution_count": null
    },
    {
      "cell_type": "code",
      "source": "",
      "metadata": {
        "trusted": true
      },
      "outputs": [],
      "execution_count": null
    },
    {
      "cell_type": "code",
      "source": "",
      "metadata": {
        "trusted": true
      },
      "outputs": [],
      "execution_count": null
    }
  ]
}